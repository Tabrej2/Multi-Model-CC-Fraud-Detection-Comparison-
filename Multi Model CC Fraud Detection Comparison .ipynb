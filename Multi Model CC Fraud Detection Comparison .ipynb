{
 "cells": [
  {
   "cell_type": "code",
   "execution_count": 1,
   "id": "28d3d4cd",
   "metadata": {},
   "outputs": [],
   "source": [
    "import numpy as np\n",
    "import pandas as pd\n",
    "from sklearn.model_selection import train_test_split\n",
    "from sklearn.linear_model import LogisticRegression\n",
    "from sklearn.metrics import accuracy_score"
   ]
  },
  {
   "cell_type": "markdown",
   "id": "adde3c43",
   "metadata": {},
   "source": [
    "The Dataset used in this Documentation is available on kaggle. Link:https://www.kaggle.com/datasets/mlg-ulb/creditcardfraud"
   ]
  },
  {
   "cell_type": "code",
   "execution_count": 2,
   "id": "45e44365",
   "metadata": {},
   "outputs": [
    {
     "data": {
      "text/html": [
       "<div>\n",
       "<style scoped>\n",
       "    .dataframe tbody tr th:only-of-type {\n",
       "        vertical-align: middle;\n",
       "    }\n",
       "\n",
       "    .dataframe tbody tr th {\n",
       "        vertical-align: top;\n",
       "    }\n",
       "\n",
       "    .dataframe thead th {\n",
       "        text-align: right;\n",
       "    }\n",
       "</style>\n",
       "<table border=\"1\" class=\"dataframe\">\n",
       "  <thead>\n",
       "    <tr style=\"text-align: right;\">\n",
       "      <th></th>\n",
       "      <th>Time</th>\n",
       "      <th>V1</th>\n",
       "      <th>V2</th>\n",
       "      <th>V3</th>\n",
       "      <th>V4</th>\n",
       "      <th>V5</th>\n",
       "      <th>V6</th>\n",
       "      <th>V7</th>\n",
       "      <th>V8</th>\n",
       "      <th>V9</th>\n",
       "      <th>...</th>\n",
       "      <th>V21</th>\n",
       "      <th>V22</th>\n",
       "      <th>V23</th>\n",
       "      <th>V24</th>\n",
       "      <th>V25</th>\n",
       "      <th>V26</th>\n",
       "      <th>V27</th>\n",
       "      <th>V28</th>\n",
       "      <th>Amount</th>\n",
       "      <th>Class</th>\n",
       "    </tr>\n",
       "  </thead>\n",
       "  <tbody>\n",
       "    <tr>\n",
       "      <th>0</th>\n",
       "      <td>0.0</td>\n",
       "      <td>-1.359807</td>\n",
       "      <td>-0.072781</td>\n",
       "      <td>2.536347</td>\n",
       "      <td>1.378155</td>\n",
       "      <td>-0.338321</td>\n",
       "      <td>0.462388</td>\n",
       "      <td>0.239599</td>\n",
       "      <td>0.098698</td>\n",
       "      <td>0.363787</td>\n",
       "      <td>...</td>\n",
       "      <td>-0.018307</td>\n",
       "      <td>0.277838</td>\n",
       "      <td>-0.110474</td>\n",
       "      <td>0.066928</td>\n",
       "      <td>0.128539</td>\n",
       "      <td>-0.189115</td>\n",
       "      <td>0.133558</td>\n",
       "      <td>-0.021053</td>\n",
       "      <td>149.62</td>\n",
       "      <td>0</td>\n",
       "    </tr>\n",
       "    <tr>\n",
       "      <th>1</th>\n",
       "      <td>0.0</td>\n",
       "      <td>1.191857</td>\n",
       "      <td>0.266151</td>\n",
       "      <td>0.166480</td>\n",
       "      <td>0.448154</td>\n",
       "      <td>0.060018</td>\n",
       "      <td>-0.082361</td>\n",
       "      <td>-0.078803</td>\n",
       "      <td>0.085102</td>\n",
       "      <td>-0.255425</td>\n",
       "      <td>...</td>\n",
       "      <td>-0.225775</td>\n",
       "      <td>-0.638672</td>\n",
       "      <td>0.101288</td>\n",
       "      <td>-0.339846</td>\n",
       "      <td>0.167170</td>\n",
       "      <td>0.125895</td>\n",
       "      <td>-0.008983</td>\n",
       "      <td>0.014724</td>\n",
       "      <td>2.69</td>\n",
       "      <td>0</td>\n",
       "    </tr>\n",
       "    <tr>\n",
       "      <th>2</th>\n",
       "      <td>1.0</td>\n",
       "      <td>-1.358354</td>\n",
       "      <td>-1.340163</td>\n",
       "      <td>1.773209</td>\n",
       "      <td>0.379780</td>\n",
       "      <td>-0.503198</td>\n",
       "      <td>1.800499</td>\n",
       "      <td>0.791461</td>\n",
       "      <td>0.247676</td>\n",
       "      <td>-1.514654</td>\n",
       "      <td>...</td>\n",
       "      <td>0.247998</td>\n",
       "      <td>0.771679</td>\n",
       "      <td>0.909412</td>\n",
       "      <td>-0.689281</td>\n",
       "      <td>-0.327642</td>\n",
       "      <td>-0.139097</td>\n",
       "      <td>-0.055353</td>\n",
       "      <td>-0.059752</td>\n",
       "      <td>378.66</td>\n",
       "      <td>0</td>\n",
       "    </tr>\n",
       "    <tr>\n",
       "      <th>3</th>\n",
       "      <td>1.0</td>\n",
       "      <td>-0.966272</td>\n",
       "      <td>-0.185226</td>\n",
       "      <td>1.792993</td>\n",
       "      <td>-0.863291</td>\n",
       "      <td>-0.010309</td>\n",
       "      <td>1.247203</td>\n",
       "      <td>0.237609</td>\n",
       "      <td>0.377436</td>\n",
       "      <td>-1.387024</td>\n",
       "      <td>...</td>\n",
       "      <td>-0.108300</td>\n",
       "      <td>0.005274</td>\n",
       "      <td>-0.190321</td>\n",
       "      <td>-1.175575</td>\n",
       "      <td>0.647376</td>\n",
       "      <td>-0.221929</td>\n",
       "      <td>0.062723</td>\n",
       "      <td>0.061458</td>\n",
       "      <td>123.50</td>\n",
       "      <td>0</td>\n",
       "    </tr>\n",
       "    <tr>\n",
       "      <th>4</th>\n",
       "      <td>2.0</td>\n",
       "      <td>-1.158233</td>\n",
       "      <td>0.877737</td>\n",
       "      <td>1.548718</td>\n",
       "      <td>0.403034</td>\n",
       "      <td>-0.407193</td>\n",
       "      <td>0.095921</td>\n",
       "      <td>0.592941</td>\n",
       "      <td>-0.270533</td>\n",
       "      <td>0.817739</td>\n",
       "      <td>...</td>\n",
       "      <td>-0.009431</td>\n",
       "      <td>0.798278</td>\n",
       "      <td>-0.137458</td>\n",
       "      <td>0.141267</td>\n",
       "      <td>-0.206010</td>\n",
       "      <td>0.502292</td>\n",
       "      <td>0.219422</td>\n",
       "      <td>0.215153</td>\n",
       "      <td>69.99</td>\n",
       "      <td>0</td>\n",
       "    </tr>\n",
       "  </tbody>\n",
       "</table>\n",
       "<p>5 rows × 31 columns</p>\n",
       "</div>"
      ],
      "text/plain": [
       "   Time        V1        V2        V3        V4        V5        V6        V7  \\\n",
       "0   0.0 -1.359807 -0.072781  2.536347  1.378155 -0.338321  0.462388  0.239599   \n",
       "1   0.0  1.191857  0.266151  0.166480  0.448154  0.060018 -0.082361 -0.078803   \n",
       "2   1.0 -1.358354 -1.340163  1.773209  0.379780 -0.503198  1.800499  0.791461   \n",
       "3   1.0 -0.966272 -0.185226  1.792993 -0.863291 -0.010309  1.247203  0.237609   \n",
       "4   2.0 -1.158233  0.877737  1.548718  0.403034 -0.407193  0.095921  0.592941   \n",
       "\n",
       "         V8        V9  ...       V21       V22       V23       V24       V25  \\\n",
       "0  0.098698  0.363787  ... -0.018307  0.277838 -0.110474  0.066928  0.128539   \n",
       "1  0.085102 -0.255425  ... -0.225775 -0.638672  0.101288 -0.339846  0.167170   \n",
       "2  0.247676 -1.514654  ...  0.247998  0.771679  0.909412 -0.689281 -0.327642   \n",
       "3  0.377436 -1.387024  ... -0.108300  0.005274 -0.190321 -1.175575  0.647376   \n",
       "4 -0.270533  0.817739  ... -0.009431  0.798278 -0.137458  0.141267 -0.206010   \n",
       "\n",
       "        V26       V27       V28  Amount  Class  \n",
       "0 -0.189115  0.133558 -0.021053  149.62      0  \n",
       "1  0.125895 -0.008983  0.014724    2.69      0  \n",
       "2 -0.139097 -0.055353 -0.059752  378.66      0  \n",
       "3 -0.221929  0.062723  0.061458  123.50      0  \n",
       "4  0.502292  0.219422  0.215153   69.99      0  \n",
       "\n",
       "[5 rows x 31 columns]"
      ]
     },
     "execution_count": 2,
     "metadata": {},
     "output_type": "execute_result"
    }
   ],
   "source": [
    "cc_data = pd.read_csv('creditcard.csv')\n",
    "cc_data.head()"
   ]
  },
  {
   "cell_type": "code",
   "execution_count": 3,
   "id": "a9e7c48e",
   "metadata": {},
   "outputs": [
    {
     "data": {
      "text/plain": [
       "(284807, 31)"
      ]
     },
     "execution_count": 3,
     "metadata": {},
     "output_type": "execute_result"
    }
   ],
   "source": [
    "cc_data.shape"
   ]
  },
  {
   "cell_type": "code",
   "execution_count": 4,
   "id": "89293fc3",
   "metadata": {},
   "outputs": [
    {
     "name": "stdout",
     "output_type": "stream",
     "text": [
      "<class 'pandas.core.frame.DataFrame'>\n",
      "RangeIndex: 284807 entries, 0 to 284806\n",
      "Data columns (total 31 columns):\n",
      " #   Column  Non-Null Count   Dtype  \n",
      "---  ------  --------------   -----  \n",
      " 0   Time    284807 non-null  float64\n",
      " 1   V1      284807 non-null  float64\n",
      " 2   V2      284807 non-null  float64\n",
      " 3   V3      284807 non-null  float64\n",
      " 4   V4      284807 non-null  float64\n",
      " 5   V5      284807 non-null  float64\n",
      " 6   V6      284807 non-null  float64\n",
      " 7   V7      284807 non-null  float64\n",
      " 8   V8      284807 non-null  float64\n",
      " 9   V9      284807 non-null  float64\n",
      " 10  V10     284807 non-null  float64\n",
      " 11  V11     284807 non-null  float64\n",
      " 12  V12     284807 non-null  float64\n",
      " 13  V13     284807 non-null  float64\n",
      " 14  V14     284807 non-null  float64\n",
      " 15  V15     284807 non-null  float64\n",
      " 16  V16     284807 non-null  float64\n",
      " 17  V17     284807 non-null  float64\n",
      " 18  V18     284807 non-null  float64\n",
      " 19  V19     284807 non-null  float64\n",
      " 20  V20     284807 non-null  float64\n",
      " 21  V21     284807 non-null  float64\n",
      " 22  V22     284807 non-null  float64\n",
      " 23  V23     284807 non-null  float64\n",
      " 24  V24     284807 non-null  float64\n",
      " 25  V25     284807 non-null  float64\n",
      " 26  V26     284807 non-null  float64\n",
      " 27  V27     284807 non-null  float64\n",
      " 28  V28     284807 non-null  float64\n",
      " 29  Amount  284807 non-null  float64\n",
      " 30  Class   284807 non-null  int64  \n",
      "dtypes: float64(30), int64(1)\n",
      "memory usage: 67.4 MB\n"
     ]
    }
   ],
   "source": [
    "cc_data.info()"
   ]
  },
  {
   "cell_type": "code",
   "execution_count": 5,
   "id": "fafd85bd",
   "metadata": {},
   "outputs": [
    {
     "data": {
      "text/plain": [
       "Time      0\n",
       "V1        0\n",
       "V2        0\n",
       "V3        0\n",
       "V4        0\n",
       "V5        0\n",
       "V6        0\n",
       "V7        0\n",
       "V8        0\n",
       "V9        0\n",
       "V10       0\n",
       "V11       0\n",
       "V12       0\n",
       "V13       0\n",
       "V14       0\n",
       "V15       0\n",
       "V16       0\n",
       "V17       0\n",
       "V18       0\n",
       "V19       0\n",
       "V20       0\n",
       "V21       0\n",
       "V22       0\n",
       "V23       0\n",
       "V24       0\n",
       "V25       0\n",
       "V26       0\n",
       "V27       0\n",
       "V28       0\n",
       "Amount    0\n",
       "Class     0\n",
       "dtype: int64"
      ]
     },
     "execution_count": 5,
     "metadata": {},
     "output_type": "execute_result"
    }
   ],
   "source": [
    "#Checking is there any null values in the dataset.\n",
    "cc_data.isnull().sum()"
   ]
  },
  {
   "cell_type": "code",
   "execution_count": 6,
   "id": "6fe93577",
   "metadata": {},
   "outputs": [
    {
     "data": {
      "text/plain": [
       "Class\n",
       "0    284315\n",
       "1       492\n",
       "Name: count, dtype: int64"
      ]
     },
     "execution_count": 6,
     "metadata": {},
     "output_type": "execute_result"
    }
   ],
   "source": [
    "#Finding out the number of Fraud and Not Fraud Transaction in the dataset.\n",
    "cc_data['Class'].value_counts()"
   ]
  },
  {
   "cell_type": "markdown",
   "id": "6f0b1128",
   "metadata": {},
   "source": [
    "Classifying Fraud and Not Fraud Transaction.\n",
    "If (Class==0) Transaction is Not Fraud Transaction.\n",
    "If (Class==1) Transaction is Fraud Transaction."
   ]
  },
  {
   "cell_type": "code",
   "execution_count": 7,
   "id": "3271b308",
   "metadata": {},
   "outputs": [],
   "source": [
    "Not_Fraud=cc_data[cc_data.Class==0]\n",
    "Fraud= cc_data[cc_data.Class==1]"
   ]
  },
  {
   "cell_type": "code",
   "execution_count": 8,
   "id": "ac3d11b1",
   "metadata": {},
   "outputs": [
    {
     "data": {
      "text/plain": [
       "(284315, 31)"
      ]
     },
     "execution_count": 8,
     "metadata": {},
     "output_type": "execute_result"
    }
   ],
   "source": [
    "Not_Fraud.shape"
   ]
  },
  {
   "cell_type": "code",
   "execution_count": 9,
   "id": "d30b8bc2",
   "metadata": {},
   "outputs": [
    {
     "data": {
      "text/plain": [
       "(492, 31)"
      ]
     },
     "execution_count": 9,
     "metadata": {},
     "output_type": "execute_result"
    }
   ],
   "source": [
    "Fraud.shape"
   ]
  },
  {
   "cell_type": "markdown",
   "id": "7419830e",
   "metadata": {},
   "source": [
    "Here in this Section new dataset used train the models.  Where Not_Fraud 1000 data sample and Fraud 492(All) data sample are taken."
   ]
  },
  {
   "cell_type": "code",
   "execution_count": 10,
   "id": "0532ffee",
   "metadata": {},
   "outputs": [],
   "source": [
    "Sample_Not_Fraud= Not_Fraud.sample(n=1000)"
   ]
  },
  {
   "cell_type": "code",
   "execution_count": 11,
   "id": "45cffa69",
   "metadata": {},
   "outputs": [],
   "source": [
    "new_dataset=pd.concat([Sample_Not_Fraud,Fraud], axis=0)"
   ]
  },
  {
   "cell_type": "code",
   "execution_count": 12,
   "id": "cb850f59",
   "metadata": {},
   "outputs": [
    {
     "data": {
      "text/html": [
       "<div>\n",
       "<style scoped>\n",
       "    .dataframe tbody tr th:only-of-type {\n",
       "        vertical-align: middle;\n",
       "    }\n",
       "\n",
       "    .dataframe tbody tr th {\n",
       "        vertical-align: top;\n",
       "    }\n",
       "\n",
       "    .dataframe thead th {\n",
       "        text-align: right;\n",
       "    }\n",
       "</style>\n",
       "<table border=\"1\" class=\"dataframe\">\n",
       "  <thead>\n",
       "    <tr style=\"text-align: right;\">\n",
       "      <th></th>\n",
       "      <th>Time</th>\n",
       "      <th>V1</th>\n",
       "      <th>V2</th>\n",
       "      <th>V3</th>\n",
       "      <th>V4</th>\n",
       "      <th>V5</th>\n",
       "      <th>V6</th>\n",
       "      <th>V7</th>\n",
       "      <th>V8</th>\n",
       "      <th>V9</th>\n",
       "      <th>...</th>\n",
       "      <th>V21</th>\n",
       "      <th>V22</th>\n",
       "      <th>V23</th>\n",
       "      <th>V24</th>\n",
       "      <th>V25</th>\n",
       "      <th>V26</th>\n",
       "      <th>V27</th>\n",
       "      <th>V28</th>\n",
       "      <th>Amount</th>\n",
       "      <th>Class</th>\n",
       "    </tr>\n",
       "  </thead>\n",
       "  <tbody>\n",
       "    <tr>\n",
       "      <th>176869</th>\n",
       "      <td>122946.0</td>\n",
       "      <td>2.178873</td>\n",
       "      <td>-1.831393</td>\n",
       "      <td>-0.103750</td>\n",
       "      <td>-1.527062</td>\n",
       "      <td>-1.965567</td>\n",
       "      <td>-0.024450</td>\n",
       "      <td>-1.948237</td>\n",
       "      <td>0.185846</td>\n",
       "      <td>-0.390533</td>\n",
       "      <td>...</td>\n",
       "      <td>-0.102893</td>\n",
       "      <td>0.060853</td>\n",
       "      <td>0.370048</td>\n",
       "      <td>0.600208</td>\n",
       "      <td>-0.613641</td>\n",
       "      <td>-0.255657</td>\n",
       "      <td>0.048023</td>\n",
       "      <td>-0.021005</td>\n",
       "      <td>44.91</td>\n",
       "      <td>0</td>\n",
       "    </tr>\n",
       "    <tr>\n",
       "      <th>268862</th>\n",
       "      <td>163415.0</td>\n",
       "      <td>0.121484</td>\n",
       "      <td>0.932940</td>\n",
       "      <td>-0.545011</td>\n",
       "      <td>-0.745542</td>\n",
       "      <td>1.132315</td>\n",
       "      <td>-0.237121</td>\n",
       "      <td>0.810265</td>\n",
       "      <td>0.115323</td>\n",
       "      <td>-0.203780</td>\n",
       "      <td>...</td>\n",
       "      <td>-0.314623</td>\n",
       "      <td>-0.808472</td>\n",
       "      <td>0.048673</td>\n",
       "      <td>0.102885</td>\n",
       "      <td>-0.436162</td>\n",
       "      <td>0.124102</td>\n",
       "      <td>0.218187</td>\n",
       "      <td>0.068752</td>\n",
       "      <td>1.98</td>\n",
       "      <td>0</td>\n",
       "    </tr>\n",
       "    <tr>\n",
       "      <th>30937</th>\n",
       "      <td>36145.0</td>\n",
       "      <td>-1.663711</td>\n",
       "      <td>-0.698590</td>\n",
       "      <td>1.516574</td>\n",
       "      <td>1.579598</td>\n",
       "      <td>0.142501</td>\n",
       "      <td>-0.740503</td>\n",
       "      <td>0.986895</td>\n",
       "      <td>-0.085230</td>\n",
       "      <td>-0.850870</td>\n",
       "      <td>...</td>\n",
       "      <td>0.379549</td>\n",
       "      <td>0.296816</td>\n",
       "      <td>0.490967</td>\n",
       "      <td>0.344873</td>\n",
       "      <td>0.609362</td>\n",
       "      <td>-0.107302</td>\n",
       "      <td>-0.053919</td>\n",
       "      <td>0.119883</td>\n",
       "      <td>292.64</td>\n",
       "      <td>0</td>\n",
       "    </tr>\n",
       "    <tr>\n",
       "      <th>240784</th>\n",
       "      <td>150750.0</td>\n",
       "      <td>2.045637</td>\n",
       "      <td>0.302323</td>\n",
       "      <td>-1.717522</td>\n",
       "      <td>0.545435</td>\n",
       "      <td>0.270031</td>\n",
       "      <td>-1.518286</td>\n",
       "      <td>0.367206</td>\n",
       "      <td>-0.465299</td>\n",
       "      <td>0.409318</td>\n",
       "      <td>...</td>\n",
       "      <td>0.207374</td>\n",
       "      <td>0.820172</td>\n",
       "      <td>-0.040007</td>\n",
       "      <td>0.005915</td>\n",
       "      <td>0.289468</td>\n",
       "      <td>-0.108479</td>\n",
       "      <td>0.005434</td>\n",
       "      <td>-0.025248</td>\n",
       "      <td>9.19</td>\n",
       "      <td>0</td>\n",
       "    </tr>\n",
       "    <tr>\n",
       "      <th>78041</th>\n",
       "      <td>57340.0</td>\n",
       "      <td>0.749273</td>\n",
       "      <td>-1.675480</td>\n",
       "      <td>0.646818</td>\n",
       "      <td>-0.453367</td>\n",
       "      <td>-1.858335</td>\n",
       "      <td>-0.536703</td>\n",
       "      <td>-0.676041</td>\n",
       "      <td>0.044141</td>\n",
       "      <td>-0.601833</td>\n",
       "      <td>...</td>\n",
       "      <td>0.351223</td>\n",
       "      <td>0.147487</td>\n",
       "      <td>-0.187921</td>\n",
       "      <td>0.527364</td>\n",
       "      <td>0.052592</td>\n",
       "      <td>-0.355261</td>\n",
       "      <td>-0.038771</td>\n",
       "      <td>0.067757</td>\n",
       "      <td>307.80</td>\n",
       "      <td>0</td>\n",
       "    </tr>\n",
       "    <tr>\n",
       "      <th>...</th>\n",
       "      <td>...</td>\n",
       "      <td>...</td>\n",
       "      <td>...</td>\n",
       "      <td>...</td>\n",
       "      <td>...</td>\n",
       "      <td>...</td>\n",
       "      <td>...</td>\n",
       "      <td>...</td>\n",
       "      <td>...</td>\n",
       "      <td>...</td>\n",
       "      <td>...</td>\n",
       "      <td>...</td>\n",
       "      <td>...</td>\n",
       "      <td>...</td>\n",
       "      <td>...</td>\n",
       "      <td>...</td>\n",
       "      <td>...</td>\n",
       "      <td>...</td>\n",
       "      <td>...</td>\n",
       "      <td>...</td>\n",
       "      <td>...</td>\n",
       "    </tr>\n",
       "    <tr>\n",
       "      <th>279863</th>\n",
       "      <td>169142.0</td>\n",
       "      <td>-1.927883</td>\n",
       "      <td>1.125653</td>\n",
       "      <td>-4.518331</td>\n",
       "      <td>1.749293</td>\n",
       "      <td>-1.566487</td>\n",
       "      <td>-2.010494</td>\n",
       "      <td>-0.882850</td>\n",
       "      <td>0.697211</td>\n",
       "      <td>-2.064945</td>\n",
       "      <td>...</td>\n",
       "      <td>0.778584</td>\n",
       "      <td>-0.319189</td>\n",
       "      <td>0.639419</td>\n",
       "      <td>-0.294885</td>\n",
       "      <td>0.537503</td>\n",
       "      <td>0.788395</td>\n",
       "      <td>0.292680</td>\n",
       "      <td>0.147968</td>\n",
       "      <td>390.00</td>\n",
       "      <td>1</td>\n",
       "    </tr>\n",
       "    <tr>\n",
       "      <th>280143</th>\n",
       "      <td>169347.0</td>\n",
       "      <td>1.378559</td>\n",
       "      <td>1.289381</td>\n",
       "      <td>-5.004247</td>\n",
       "      <td>1.411850</td>\n",
       "      <td>0.442581</td>\n",
       "      <td>-1.326536</td>\n",
       "      <td>-1.413170</td>\n",
       "      <td>0.248525</td>\n",
       "      <td>-1.127396</td>\n",
       "      <td>...</td>\n",
       "      <td>0.370612</td>\n",
       "      <td>0.028234</td>\n",
       "      <td>-0.145640</td>\n",
       "      <td>-0.081049</td>\n",
       "      <td>0.521875</td>\n",
       "      <td>0.739467</td>\n",
       "      <td>0.389152</td>\n",
       "      <td>0.186637</td>\n",
       "      <td>0.76</td>\n",
       "      <td>1</td>\n",
       "    </tr>\n",
       "    <tr>\n",
       "      <th>280149</th>\n",
       "      <td>169351.0</td>\n",
       "      <td>-0.676143</td>\n",
       "      <td>1.126366</td>\n",
       "      <td>-2.213700</td>\n",
       "      <td>0.468308</td>\n",
       "      <td>-1.120541</td>\n",
       "      <td>-0.003346</td>\n",
       "      <td>-2.234739</td>\n",
       "      <td>1.210158</td>\n",
       "      <td>-0.652250</td>\n",
       "      <td>...</td>\n",
       "      <td>0.751826</td>\n",
       "      <td>0.834108</td>\n",
       "      <td>0.190944</td>\n",
       "      <td>0.032070</td>\n",
       "      <td>-0.739695</td>\n",
       "      <td>0.471111</td>\n",
       "      <td>0.385107</td>\n",
       "      <td>0.194361</td>\n",
       "      <td>77.89</td>\n",
       "      <td>1</td>\n",
       "    </tr>\n",
       "    <tr>\n",
       "      <th>281144</th>\n",
       "      <td>169966.0</td>\n",
       "      <td>-3.113832</td>\n",
       "      <td>0.585864</td>\n",
       "      <td>-5.399730</td>\n",
       "      <td>1.817092</td>\n",
       "      <td>-0.840618</td>\n",
       "      <td>-2.943548</td>\n",
       "      <td>-2.208002</td>\n",
       "      <td>1.058733</td>\n",
       "      <td>-1.632333</td>\n",
       "      <td>...</td>\n",
       "      <td>0.583276</td>\n",
       "      <td>-0.269209</td>\n",
       "      <td>-0.456108</td>\n",
       "      <td>-0.183659</td>\n",
       "      <td>-0.328168</td>\n",
       "      <td>0.606116</td>\n",
       "      <td>0.884876</td>\n",
       "      <td>-0.253700</td>\n",
       "      <td>245.00</td>\n",
       "      <td>1</td>\n",
       "    </tr>\n",
       "    <tr>\n",
       "      <th>281674</th>\n",
       "      <td>170348.0</td>\n",
       "      <td>1.991976</td>\n",
       "      <td>0.158476</td>\n",
       "      <td>-2.583441</td>\n",
       "      <td>0.408670</td>\n",
       "      <td>1.151147</td>\n",
       "      <td>-0.096695</td>\n",
       "      <td>0.223050</td>\n",
       "      <td>-0.068384</td>\n",
       "      <td>0.577829</td>\n",
       "      <td>...</td>\n",
       "      <td>-0.164350</td>\n",
       "      <td>-0.295135</td>\n",
       "      <td>-0.072173</td>\n",
       "      <td>-0.450261</td>\n",
       "      <td>0.313267</td>\n",
       "      <td>-0.289617</td>\n",
       "      <td>0.002988</td>\n",
       "      <td>-0.015309</td>\n",
       "      <td>42.53</td>\n",
       "      <td>1</td>\n",
       "    </tr>\n",
       "  </tbody>\n",
       "</table>\n",
       "<p>1492 rows × 31 columns</p>\n",
       "</div>"
      ],
      "text/plain": [
       "            Time        V1        V2        V3        V4        V5        V6  \\\n",
       "176869  122946.0  2.178873 -1.831393 -0.103750 -1.527062 -1.965567 -0.024450   \n",
       "268862  163415.0  0.121484  0.932940 -0.545011 -0.745542  1.132315 -0.237121   \n",
       "30937    36145.0 -1.663711 -0.698590  1.516574  1.579598  0.142501 -0.740503   \n",
       "240784  150750.0  2.045637  0.302323 -1.717522  0.545435  0.270031 -1.518286   \n",
       "78041    57340.0  0.749273 -1.675480  0.646818 -0.453367 -1.858335 -0.536703   \n",
       "...          ...       ...       ...       ...       ...       ...       ...   \n",
       "279863  169142.0 -1.927883  1.125653 -4.518331  1.749293 -1.566487 -2.010494   \n",
       "280143  169347.0  1.378559  1.289381 -5.004247  1.411850  0.442581 -1.326536   \n",
       "280149  169351.0 -0.676143  1.126366 -2.213700  0.468308 -1.120541 -0.003346   \n",
       "281144  169966.0 -3.113832  0.585864 -5.399730  1.817092 -0.840618 -2.943548   \n",
       "281674  170348.0  1.991976  0.158476 -2.583441  0.408670  1.151147 -0.096695   \n",
       "\n",
       "              V7        V8        V9  ...       V21       V22       V23  \\\n",
       "176869 -1.948237  0.185846 -0.390533  ... -0.102893  0.060853  0.370048   \n",
       "268862  0.810265  0.115323 -0.203780  ... -0.314623 -0.808472  0.048673   \n",
       "30937   0.986895 -0.085230 -0.850870  ...  0.379549  0.296816  0.490967   \n",
       "240784  0.367206 -0.465299  0.409318  ...  0.207374  0.820172 -0.040007   \n",
       "78041  -0.676041  0.044141 -0.601833  ...  0.351223  0.147487 -0.187921   \n",
       "...          ...       ...       ...  ...       ...       ...       ...   \n",
       "279863 -0.882850  0.697211 -2.064945  ...  0.778584 -0.319189  0.639419   \n",
       "280143 -1.413170  0.248525 -1.127396  ...  0.370612  0.028234 -0.145640   \n",
       "280149 -2.234739  1.210158 -0.652250  ...  0.751826  0.834108  0.190944   \n",
       "281144 -2.208002  1.058733 -1.632333  ...  0.583276 -0.269209 -0.456108   \n",
       "281674  0.223050 -0.068384  0.577829  ... -0.164350 -0.295135 -0.072173   \n",
       "\n",
       "             V24       V25       V26       V27       V28  Amount  Class  \n",
       "176869  0.600208 -0.613641 -0.255657  0.048023 -0.021005   44.91      0  \n",
       "268862  0.102885 -0.436162  0.124102  0.218187  0.068752    1.98      0  \n",
       "30937   0.344873  0.609362 -0.107302 -0.053919  0.119883  292.64      0  \n",
       "240784  0.005915  0.289468 -0.108479  0.005434 -0.025248    9.19      0  \n",
       "78041   0.527364  0.052592 -0.355261 -0.038771  0.067757  307.80      0  \n",
       "...          ...       ...       ...       ...       ...     ...    ...  \n",
       "279863 -0.294885  0.537503  0.788395  0.292680  0.147968  390.00      1  \n",
       "280143 -0.081049  0.521875  0.739467  0.389152  0.186637    0.76      1  \n",
       "280149  0.032070 -0.739695  0.471111  0.385107  0.194361   77.89      1  \n",
       "281144 -0.183659 -0.328168  0.606116  0.884876 -0.253700  245.00      1  \n",
       "281674 -0.450261  0.313267 -0.289617  0.002988 -0.015309   42.53      1  \n",
       "\n",
       "[1492 rows x 31 columns]"
      ]
     },
     "execution_count": 12,
     "metadata": {},
     "output_type": "execute_result"
    }
   ],
   "source": [
    "new_dataset"
   ]
  },
  {
   "cell_type": "code",
   "execution_count": 13,
   "id": "37c6a919",
   "metadata": {},
   "outputs": [
    {
     "data": {
      "text/plain": [
       "(1492, 31)"
      ]
     },
     "execution_count": 13,
     "metadata": {},
     "output_type": "execute_result"
    }
   ],
   "source": [
    "new_dataset.shape"
   ]
  },
  {
   "cell_type": "code",
   "execution_count": 14,
   "id": "ea8bb220",
   "metadata": {},
   "outputs": [],
   "source": [
    "X = new_dataset.drop(columns='Class', axis=1)\n",
    "Y = new_dataset['Class']"
   ]
  },
  {
   "cell_type": "code",
   "execution_count": 15,
   "id": "2ea67f02",
   "metadata": {},
   "outputs": [],
   "source": [
    "X_train, X_test, Y_train, Y_test = train_test_split(X, Y, test_size=0.2, stratify=Y, random_state=2)"
   ]
  },
  {
   "cell_type": "markdown",
   "id": "c7c7154a",
   "metadata": {},
   "source": [
    "# Logistics Regression "
   ]
  },
  {
   "cell_type": "code",
   "execution_count": 16,
   "id": "ea411d2d",
   "metadata": {},
   "outputs": [
    {
     "name": "stdout",
     "output_type": "stream",
     "text": [
      "Accuracy on Training data :  0.9522212908633697\n",
      "Accuracy score on Test Data :  0.9765886287625418\n"
     ]
    }
   ],
   "source": [
    "model_Log=LogisticRegression(max_iter=1000)\n",
    "# training the Logistic Regression Model with Training Data\n",
    "model_Log.fit(X_train, Y_train)\n",
    "\n",
    "# accuracy on training data\n",
    "X_train_prediction = model_Log.predict(X_train)\n",
    "training_data_accuracy = accuracy_score(X_train_prediction, Y_train)\n",
    "print('Accuracy on Training data : ', training_data_accuracy)\n",
    "\n",
    "# accuracy on test data\n",
    "X_test_prediction = model_Log.predict(X_test)\n",
    "test_data_accuracy = accuracy_score(X_test_prediction, Y_test)\n",
    "print('Accuracy score on Test Data : ', test_data_accuracy)"
   ]
  },
  {
   "cell_type": "markdown",
   "id": "dbdf3a37",
   "metadata": {},
   "source": [
    "# Support Vector Machine (SVM)"
   ]
  },
  {
   "cell_type": "code",
   "execution_count": 17,
   "id": "ec1d693e",
   "metadata": {},
   "outputs": [
    {
     "name": "stdout",
     "output_type": "stream",
     "text": [
      "Training Accuracy: 0.9170159262363788\n",
      "Test Accuracy: 0.9364548494983278\n"
     ]
    }
   ],
   "source": [
    "from sklearn.svm import SVC\n",
    "from sklearn.metrics import accuracy_score\n",
    "\n",
    "\n",
    "# Create an SVM classifier\n",
    "svm_model = SVC(kernel='linear')  \n",
    "\n",
    "# Train the SVM model\n",
    "svm_model.fit(X_train, Y_train)\n",
    "\n",
    "# Make predictions on training data\n",
    "y_train_pred = svm_model.predict(X_train)\n",
    "train_accuracy = accuracy_score(Y_train, y_train_pred)\n",
    "print(f\"Training Accuracy: {train_accuracy}\")\n",
    "\n",
    "# Make predictions on test data\n",
    "y_test_pred = svm_model.predict(X_test)\n",
    "test_accuracy = accuracy_score(Y_test, y_test_pred)\n",
    "print(f\"Test Accuracy: {test_accuracy}\")"
   ]
  },
  {
   "cell_type": "markdown",
   "id": "8d3cadcb",
   "metadata": {},
   "source": [
    "# Random Forest"
   ]
  },
  {
   "cell_type": "code",
   "execution_count": 18,
   "id": "258d8e28",
   "metadata": {},
   "outputs": [
    {
     "name": "stdout",
     "output_type": "stream",
     "text": [
      "Training Accuracy: 1.0\n",
      "Test Accuracy: 0.9698996655518395\n"
     ]
    }
   ],
   "source": [
    "from sklearn.ensemble import RandomForestClassifier\n",
    "from sklearn.metrics import accuracy_score\n",
    "\n",
    "# Create a Random Forest classifier\n",
    "rf_model = RandomForestClassifier(n_estimators=100, random_state=42) \n",
    "\n",
    "# Train the Random Forest model\n",
    "rf_model.fit(X_train, Y_train)\n",
    "\n",
    "# Make predictions on training data\n",
    "y_train_pred = rf_model.predict(X_train)\n",
    "train_accuracy = accuracy_score(Y_train, y_train_pred)\n",
    "print(f\"Training Accuracy: {train_accuracy}\")\n",
    "\n",
    "# Make predictions on test data\n",
    "y_test_pred = rf_model.predict(X_test)\n",
    "test_accuracy = accuracy_score(Y_test, y_test_pred)\n",
    "print(f\"Test Accuracy: {test_accuracy}\")"
   ]
  },
  {
   "cell_type": "markdown",
   "id": "903093f1",
   "metadata": {},
   "source": [
    "# Neural Network"
   ]
  },
  {
   "cell_type": "code",
   "execution_count": 21,
   "id": "4b9abb99",
   "metadata": {},
   "outputs": [
    {
     "name": "stdout",
     "output_type": "stream",
     "text": [
      "Epoch 1/30\n",
      "38/38 [==============================] - 0s 645us/step - loss: 7962.5684 - accuracy: 0.6706\n",
      "Epoch 2/30\n",
      "38/38 [==============================] - 0s 635us/step - loss: 6185.5161 - accuracy: 0.6706\n",
      "Epoch 3/30\n",
      "38/38 [==============================] - 0s 587us/step - loss: 4752.2114 - accuracy: 0.6706\n",
      "Epoch 4/30\n",
      "38/38 [==============================] - 0s 558us/step - loss: 3599.7878 - accuracy: 0.6706\n",
      "Epoch 5/30\n",
      "38/38 [==============================] - 0s 568us/step - loss: 2630.4434 - accuracy: 0.6706\n",
      "Epoch 6/30\n",
      "38/38 [==============================] - 0s 561us/step - loss: 1724.0345 - accuracy: 0.6706\n",
      "Epoch 7/30\n",
      "38/38 [==============================] - 0s 549us/step - loss: 763.7811 - accuracy: 0.6706\n",
      "Epoch 8/30\n",
      "38/38 [==============================] - 0s 566us/step - loss: 45.6050 - accuracy: 0.5717\n",
      "Epoch 9/30\n",
      "38/38 [==============================] - 0s 603us/step - loss: 3.5913 - accuracy: 0.7033\n",
      "Epoch 10/30\n",
      "38/38 [==============================] - 0s 578us/step - loss: 2.7069 - accuracy: 0.7293\n",
      "Epoch 11/30\n",
      "38/38 [==============================] - 0s 565us/step - loss: 1.8797 - accuracy: 0.7343\n",
      "Epoch 12/30\n",
      "38/38 [==============================] - 0s 556us/step - loss: 3.8899 - accuracy: 0.6681\n",
      "Epoch 13/30\n",
      "38/38 [==============================] - 0s 581us/step - loss: 3.0698 - accuracy: 0.6714\n",
      "Epoch 14/30\n",
      "38/38 [==============================] - 0s 639us/step - loss: 4.8570 - accuracy: 0.6832\n",
      "Epoch 15/30\n",
      "38/38 [==============================] - 0s 603us/step - loss: 9.7233 - accuracy: 0.6203\n",
      "Epoch 16/30\n",
      "38/38 [==============================] - 0s 559us/step - loss: 2.7583 - accuracy: 0.7259\n",
      "Epoch 17/30\n",
      "38/38 [==============================] - 0s 580us/step - loss: 2.1534 - accuracy: 0.7351\n",
      "Epoch 18/30\n",
      "38/38 [==============================] - 0s 553us/step - loss: 1.6778 - accuracy: 0.7821\n",
      "Epoch 19/30\n",
      "38/38 [==============================] - 0s 559us/step - loss: 4.1493 - accuracy: 0.6882\n",
      "Epoch 20/30\n",
      "38/38 [==============================] - 0s 589us/step - loss: 4.1838 - accuracy: 0.6940\n",
      "Epoch 21/30\n",
      "38/38 [==============================] - 0s 556us/step - loss: 2.8204 - accuracy: 0.7150\n",
      "Epoch 22/30\n",
      "38/38 [==============================] - 0s 570us/step - loss: 1.5089 - accuracy: 0.7913\n",
      "Epoch 23/30\n",
      "38/38 [==============================] - 0s 547us/step - loss: 1.4460 - accuracy: 0.7745\n",
      "Epoch 24/30\n",
      "38/38 [==============================] - 0s 563us/step - loss: 0.8694 - accuracy: 0.8198\n",
      "Epoch 25/30\n",
      "38/38 [==============================] - 0s 574us/step - loss: 0.8721 - accuracy: 0.8349\n",
      "Epoch 26/30\n",
      "38/38 [==============================] - 0s 549us/step - loss: 1.6328 - accuracy: 0.7611\n",
      "Epoch 27/30\n",
      "38/38 [==============================] - 0s 576us/step - loss: 0.9295 - accuracy: 0.8374\n",
      "Epoch 28/30\n",
      "38/38 [==============================] - 0s 560us/step - loss: 2.4280 - accuracy: 0.7435\n",
      "Epoch 29/30\n",
      "38/38 [==============================] - 0s 566us/step - loss: 2.3259 - accuracy: 0.7376\n",
      "Epoch 30/30\n",
      "38/38 [==============================] - 0s 569us/step - loss: 2.9371 - accuracy: 0.7200\n",
      "10/10 [==============================] - 0s 535us/step\n"
     ]
    }
   ],
   "source": [
    "import tensorflow as tf\n",
    "\n",
    "\n",
    "model_nn = tf.keras.Sequential([\n",
    "  tf.keras.layers.Dense(10, activation=\"relu\", input_shape=(X_train.shape[1],)),  # First hidden layer with 10 units and ReLU activation\n",
    "  tf.keras.layers.Dense(1, activation=\"sigmoid\")  # Output layer with sigmoid activation for binary classification\n",
    "])\n",
    "\n",
    "# Compile the model\n",
    "model_nn.compile(loss=\"binary_crossentropy\", optimizer=\"adam\", metrics=[\"accuracy\"])\n",
    "\n",
    "# Train the model\n",
    "model_nn.fit(X_train, Y_train, epochs=30)\n",
    "\n",
    "# Use the model for prediction\n",
    "predictions = model_nn.predict(X_test)  "
   ]
  },
  {
   "cell_type": "markdown",
   "id": "e4e56ae9",
   "metadata": {},
   "source": [
    "In this section, the whole Dataset used to train and test different models. Where Not_Fraud 284315 data sample and Fraud 492 data sample are taken. "
   ]
  },
  {
   "cell_type": "code",
   "execution_count": 22,
   "id": "4a090a49",
   "metadata": {},
   "outputs": [],
   "source": [
    "A = cc_data.drop(columns='Class', axis=1)\n",
    "B = cc_data['Class']"
   ]
  },
  {
   "cell_type": "code",
   "execution_count": 23,
   "id": "d3f4a914",
   "metadata": {},
   "outputs": [],
   "source": [
    "A_train, A_test, B_train, B_test = train_test_split(A, B, test_size=0.2, stratify=B, random_state=2)"
   ]
  },
  {
   "cell_type": "markdown",
   "id": "9fc7cb69",
   "metadata": {},
   "source": [
    "# Logistics Regression "
   ]
  },
  {
   "cell_type": "code",
   "execution_count": 24,
   "id": "2379959b",
   "metadata": {},
   "outputs": [
    {
     "name": "stdout",
     "output_type": "stream",
     "text": [
      "Accuracy on Training data :  0.999188044503939\n",
      "Accuracy score on Test Data :  0.9993153330290369\n"
     ]
    }
   ],
   "source": [
    "model_Log=LogisticRegression(max_iter=1000)\n",
    "# training the Logistic Regression Model with Training Data\n",
    "model_Log.fit(A_train, B_train)\n",
    "\n",
    "# accuracy on training data\n",
    "A_train_prediction = model_Log.predict(A_train)\n",
    "training_data_accuracy = accuracy_score(A_train_prediction, B_train)\n",
    "print('Accuracy on Training data : ', training_data_accuracy)\n",
    "\n",
    "# accuracy on test data\n",
    "A_test_prediction = model_Log.predict(A_test)\n",
    "test_data_accuracy = accuracy_score(A_test_prediction, B_test)\n",
    "print('Accuracy score on Test Data : ', test_data_accuracy)"
   ]
  },
  {
   "cell_type": "markdown",
   "id": "7a2376b7",
   "metadata": {},
   "source": [
    "# Support Vector Machine (SVM)"
   ]
  },
  {
   "cell_type": "code",
   "execution_count": 25,
   "id": "e59ac96c",
   "metadata": {},
   "outputs": [
    {
     "name": "stdout",
     "output_type": "stream",
     "text": [
      "Training Accuracy: 0.9986657596172837\n",
      "Test Accuracy: 0.998735999438222\n"
     ]
    }
   ],
   "source": [
    "from sklearn.svm import SVC\n",
    "from sklearn.metrics import accuracy_score\n",
    "from sklearn.model_selection import train_test_split\n",
    "\n",
    "\n",
    "# Create an SVM classifier\n",
    "svm_model = SVC(kernel='linear')  \n",
    "\n",
    "# Train the SVM model\n",
    "svm_model.fit(A_train, B_train)\n",
    "\n",
    "# Make predictions on training data\n",
    "y_train_pred = svm_model.predict(A_train)\n",
    "train_accuracy = accuracy_score(B_train, y_train_pred)\n",
    "print(f\"Training Accuracy: {train_accuracy}\")\n",
    "\n",
    "# Make predictions on test data\n",
    "y_test_pred = svm_model.predict(A_test)\n",
    "test_accuracy = accuracy_score(B_test, y_test_pred)\n",
    "print(f\"Test Accuracy: {test_accuracy}\")"
   ]
  },
  {
   "cell_type": "markdown",
   "id": "b2e442c3",
   "metadata": {},
   "source": [
    "# Random Forest"
   ]
  },
  {
   "cell_type": "code",
   "execution_count": 26,
   "id": "09e95ce0",
   "metadata": {},
   "outputs": [
    {
     "name": "stdout",
     "output_type": "stream",
     "text": [
      "Training Accuracy: 1.0\n",
      "Test Accuracy: 0.9995435553526912\n"
     ]
    }
   ],
   "source": [
    "from sklearn.ensemble import RandomForestClassifier\n",
    "from sklearn.metrics import accuracy_score\n",
    "from sklearn.model_selection import train_test_split\n",
    "\n",
    "\n",
    "# Create a Random Forest classifier\n",
    "rf_model = RandomForestClassifier(n_estimators=100, random_state=42)\n",
    "\n",
    "# Train the Random Forest model\n",
    "rf_model.fit(A_train, B_train)\n",
    "\n",
    "# Make predictions on training data\n",
    "y_train_pred = rf_model.predict(A_train)\n",
    "train_accuracy = accuracy_score(B_train, y_train_pred)\n",
    "print(f\"Training Accuracy: {train_accuracy}\")\n",
    "\n",
    "# Make predictions on test data\n",
    "y_test_pred = rf_model.predict(A_test)\n",
    "test_accuracy = accuracy_score(B_test, y_test_pred)\n",
    "print(f\"Test Accuracy: {test_accuracy}\")"
   ]
  },
  {
   "cell_type": "markdown",
   "id": "834ff9f0",
   "metadata": {},
   "source": [
    "# Neural Network"
   ]
  },
  {
   "cell_type": "code",
   "execution_count": 27,
   "id": "bf93d884",
   "metadata": {},
   "outputs": [
    {
     "name": "stdout",
     "output_type": "stream",
     "text": [
      "Epoch 1/10\n",
      "7121/7121 [==============================] - 4s 478us/step - loss: 1.1091 - accuracy: 0.9979\n",
      "Epoch 2/10\n",
      "7121/7121 [==============================] - 3s 472us/step - loss: 0.0221 - accuracy: 0.9983\n",
      "Epoch 3/10\n",
      "7121/7121 [==============================] - 3s 476us/step - loss: 0.0172 - accuracy: 0.9983\n",
      "Epoch 4/10\n",
      "7121/7121 [==============================] - 3s 491us/step - loss: 0.0131 - accuracy: 0.9983\n",
      "Epoch 5/10\n",
      "7121/7121 [==============================] - 3s 487us/step - loss: 0.0151 - accuracy: 0.9983\n",
      "Epoch 6/10\n",
      "7121/7121 [==============================] - 4s 493us/step - loss: 0.0128 - accuracy: 0.9983\n",
      "Epoch 7/10\n",
      "7121/7121 [==============================] - 4s 501us/step - loss: 0.0142 - accuracy: 0.9982\n",
      "Epoch 8/10\n",
      "7121/7121 [==============================] - 4s 525us/step - loss: 0.0129 - accuracy: 0.9983\n",
      "Epoch 9/10\n",
      "7121/7121 [==============================] - 4s 495us/step - loss: 0.0129 - accuracy: 0.9983\n",
      "Epoch 10/10\n",
      "7121/7121 [==============================] - 4s 496us/step - loss: 0.0155 - accuracy: 0.9981\n",
      "1781/1781 [==============================] - 1s 334us/step\n"
     ]
    }
   ],
   "source": [
    "import tensorflow as tf\n",
    "\n",
    "\n",
    "model_nn = tf.keras.Sequential([\n",
    "  tf.keras.layers.Dense(10, activation=\"relu\", input_shape=(X_train.shape[1],)),  # First hidden layer with 10 units and ReLU activation\n",
    "  tf.keras.layers.Dense(1, activation=\"sigmoid\")  # Output layer with sigmoid activation for binary classification\n",
    "])\n",
    "\n",
    "# Compile the model\n",
    "model_nn.compile(loss=\"binary_crossentropy\", optimizer=\"adam\", metrics=[\"accuracy\"])\n",
    "\n",
    "# Train the model\n",
    "model_nn.fit(A_train, B_train, epochs=10)\n",
    "\n",
    "# Use the model for prediction\n",
    "predictions = model_nn.predict(A_test)"
   ]
  },
  {
   "cell_type": "code",
   "execution_count": null,
   "id": "76507ef9",
   "metadata": {},
   "outputs": [],
   "source": []
  }
 ],
 "metadata": {
  "kernelspec": {
   "display_name": "Python 3 (ipykernel)",
   "language": "python",
   "name": "python3"
  },
  "language_info": {
   "codemirror_mode": {
    "name": "ipython",
    "version": 3
   },
   "file_extension": ".py",
   "mimetype": "text/x-python",
   "name": "python",
   "nbconvert_exporter": "python",
   "pygments_lexer": "ipython3",
   "version": "3.11.0"
  }
 },
 "nbformat": 4,
 "nbformat_minor": 5
}
